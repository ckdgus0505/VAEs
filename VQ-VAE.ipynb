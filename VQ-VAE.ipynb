{
 "cells": [
  {
   "cell_type": "code",
   "execution_count": 1,
   "id": "4ed8a410",
   "metadata": {
    "ExecuteTime": {
     "end_time": "2022-01-26T06:41:19.773623Z",
     "start_time": "2022-01-26T06:41:18.573391Z"
    }
   },
   "outputs": [],
   "source": [
    "import numpy as np\n",
    "import matplotlib.pyplot as plt\n",
    "import torch\n",
    "import torch.nn as nn\n",
    "import torch.nn.functional as F\n",
    "from torch.distributions.normal import Normal\n",
    "from torch.autograd import Variable\n",
    "from IPython.display import Image\n",
    "from torchvision.utils import save_image\n",
    "from torch.utils.data import DataLoader\n",
    "import torchvision.transforms as transforms\n",
    "from torchvision.datasets import MNIST"
   ]
  },
  {
   "cell_type": "markdown",
   "id": "37811a28",
   "metadata": {
    "hide_input": false
   },
   "source": [
    "# arguments"
   ]
  },
  {
   "cell_type": "code",
   "execution_count": 2,
   "id": "54eb045a",
   "metadata": {
    "ExecuteTime": {
     "end_time": "2022-01-26T06:41:19.805650Z",
     "start_time": "2022-01-26T06:41:19.774624Z"
    }
   },
   "outputs": [],
   "source": [
    "batch_size = 128\n",
    "epochs = 10\n",
    "num_labels = 10\n",
    "\n",
    "device = torch.device('cuda:0' if torch.cuda.is_available() else 'cpu')"
   ]
  },
  {
   "cell_type": "markdown",
   "id": "6e9680f2",
   "metadata": {},
   "source": [
    "# Prepare Dataset"
   ]
  },
  {
   "cell_type": "code",
   "execution_count": 3,
   "id": "81d747df",
   "metadata": {
    "ExecuteTime": {
     "end_time": "2022-01-26T06:41:19.821648Z",
     "start_time": "2022-01-26T06:41:19.806622Z"
    }
   },
   "outputs": [],
   "source": [
    "mnist_transform = transforms.Compose([\n",
    "    transforms.ToTensor()\n",
    "])"
   ]
  },
  {
   "cell_type": "code",
   "execution_count": 4,
   "id": "1641431a",
   "metadata": {
    "ExecuteTime": {
     "end_time": "2022-01-26T06:41:19.853661Z",
     "start_time": "2022-01-26T06:41:19.823623Z"
    },
    "scrolled": true
   },
   "outputs": [],
   "source": [
    "download_root = './MNIST_DATASET'\n",
    "\n",
    "train_dataset = MNIST(download_root, transform=mnist_transform, train=True, download=True)\n",
    "test_dataset = MNIST(download_root, transform=mnist_transform, train=False, download=True)"
   ]
  },
  {
   "cell_type": "code",
   "execution_count": 5,
   "id": "11ecd120",
   "metadata": {
    "ExecuteTime": {
     "end_time": "2022-01-26T06:41:19.869624Z",
     "start_time": "2022-01-26T06:41:19.854623Z"
    }
   },
   "outputs": [],
   "source": [
    "train_loader = DataLoader(dataset=train_dataset, \n",
    "                         batch_size=batch_size,\n",
    "                         shuffle=True)\n",
    "\n",
    "test_loader = DataLoader(dataset=test_dataset, \n",
    "                         batch_size=batch_size,\n",
    "                         shuffle=True)\n",
    "\n",
    "# a, _ = test_dataset.__getitem__(0)\n",
    "# torch.tensor(np.array(a))\n",
    "# 28*28 shape data"
   ]
  },
  {
   "cell_type": "code",
   "execution_count": 6,
   "id": "31049e34",
   "metadata": {
    "ExecuteTime": {
     "end_time": "2022-01-26T06:41:19.885624Z",
     "start_time": "2022-01-26T06:41:19.870625Z"
    }
   },
   "outputs": [],
   "source": [
    "def label_to_one_hot(label, num_labels = 10):\n",
    "    label = label.unsqueeze(1)\n",
    "    one_hot = torch.zeros([label.shape[0], num_labels], device = device)\n",
    "    one_hot.scatter_(1, label, 1)\n",
    "    return one_hot"
   ]
  },
  {
   "cell_type": "markdown",
   "id": "ec996563",
   "metadata": {},
   "source": [
    "# Define Model"
   ]
  },
  {
   "cell_type": "code",
   "execution_count": 7,
   "id": "959e1266",
   "metadata": {
    "ExecuteTime": {
     "end_time": "2022-01-26T06:41:19.901623Z",
     "start_time": "2022-01-26T06:41:19.887624Z"
    }
   },
   "outputs": [],
   "source": [
    "class Encoder(nn.Module):\n",
    "    def __init__(self):\n",
    "        super(Encoder, self).__init__()\n",
    "        self.MLP= nn.Sequential(nn.Linear(28*28, 400), nn.PReLU(),\n",
    "                                nn.Linear(400, 20))\n",
    "        \n",
    "    def forward(self, x):\n",
    "        bs = x.shape[0]\n",
    "        out = self.MLP(x.reshape(bs, -1))\n",
    "        return out\n",
    "        "
   ]
  },
  {
   "cell_type": "code",
   "execution_count": 8,
   "id": "111eb591",
   "metadata": {
    "ExecuteTime": {
     "end_time": "2022-01-26T06:41:19.917625Z",
     "start_time": "2022-01-26T06:41:19.902626Z"
    }
   },
   "outputs": [],
   "source": [
    "class Decoder(nn.Module):\n",
    "    def __init__(self):\n",
    "        super(Decoder, self).__init__()\n",
    "        self.MLP = nn.Sequential(nn.Linear(20+10, 400), nn.PReLU(),\n",
    "                                nn.Linear(400, 28*28), nn.Sigmoid())\n",
    "        \n",
    "    def forward(self, x, label):\n",
    "        bs = x.shape[0]\n",
    "        c = label_to_one_hot(label)\n",
    "        out = self.MLP(torch.cat([x,c], dim = 1)).reshape(bs, 1, 28, 28)\n",
    "        return out\n",
    "        "
   ]
  },
  {
   "cell_type": "code",
   "execution_count": 9,
   "id": "1487de65",
   "metadata": {
    "ExecuteTime": {
     "end_time": "2022-01-26T06:41:19.933391Z",
     "start_time": "2022-01-26T06:41:19.918624Z"
    }
   },
   "outputs": [],
   "source": [
    "class Codebook(nn.Module):\n",
    "    def __init__(self, K = 128, D = 20, commitment_cost = 0.25):\n",
    "        super(Codebook, self).__init__()\n",
    "        self.D = D\n",
    "        self.K = K\n",
    "        self.embedding = nn.Embedding(num_embeddings = K, embedding_dim = D)\n",
    "        self.embedding.weight.data.uniform_(-1./K, 1./K)\n",
    "        self._commitment_cost = commitment_cost\n",
    "\n",
    "    def forward(self, z_e_x):\n",
    "        dist = (torch.sum(z_e_x**2, dim=1, keepdim=True)\n",
    "                + torch.sum(self.embedding.weight**2, dim=1)\n",
    "                - 2 * torch.matmul(z_e_x, self.embedding.weight.t()))\n",
    "        \n",
    "        indices = torch.argmin(dist, dim=1)\n",
    "        encodings = F.one_hot(indices, num_classes = self.K).float()\n",
    "        encodings.to(z_e_x.device)\n",
    "        z_q_x = torch.matmul(encodings, self.embedding.weight)\n",
    "        \n",
    "        # Loss\n",
    "        e_latent_loss = F.mse_loss(z_q_x.detach(), z_e_x, reduction='sum')\n",
    "        q_latent_loss = F.mse_loss(z_q_x, z_e_x.detach(), reduction='sum')\n",
    "        loss = q_latent_loss + self._commitment_cost * e_latent_loss\n",
    "\n",
    "        z_q_x = z_e_x + (z_q_x - z_e_x).detach()\n",
    "\n",
    "        return z_q_x, loss"
   ]
  },
  {
   "cell_type": "code",
   "execution_count": 10,
   "id": "cbc7513a",
   "metadata": {
    "ExecuteTime": {
     "end_time": "2022-01-26T06:41:19.949416Z",
     "start_time": "2022-01-26T06:41:19.938427Z"
    }
   },
   "outputs": [],
   "source": [
    "class VAE(nn.Module):\n",
    "    def __init__(self):\n",
    "        super(VAE, self).__init__()\n",
    "        self.encoder = Encoder()\n",
    "        self.decoder = Decoder()\n",
    "        self.codebook = Codebook()\n",
    "        \n",
    "    def forward(self, x, label):\n",
    "        z = self.encoder(x)\n",
    "        z_q, vq_loss = self.codebook(z)\n",
    "        out = self.decoder(z_q, label)\n",
    "        \n",
    "        return out, vq_loss"
   ]
  },
  {
   "cell_type": "markdown",
   "id": "d996c3fe",
   "metadata": {},
   "source": [
    "# model prepare"
   ]
  },
  {
   "cell_type": "code",
   "execution_count": 11,
   "id": "24ed90f7",
   "metadata": {
    "ExecuteTime": {
     "end_time": "2022-01-26T06:41:21.404152Z",
     "start_time": "2022-01-26T06:41:19.950383Z"
    }
   },
   "outputs": [],
   "source": [
    "model = VAE().to(device)\n",
    "optimizer = torch.optim.Adam(model.parameters(), lr = 1e-3)\n",
    "recon_criterion = nn.MSELoss(reduction='sum')"
   ]
  },
  {
   "cell_type": "code",
   "execution_count": 12,
   "id": "0a4c1d1c",
   "metadata": {
    "ExecuteTime": {
     "end_time": "2022-01-26T06:42:32.869823Z",
     "start_time": "2022-01-26T06:41:21.405144Z"
    }
   },
   "outputs": [
    {
     "name": "stdout",
     "output_type": "stream",
     "text": [
      "0 tensor(113.5990, device='cuda:0')\n",
      "1 tensor(91.9472, device='cuda:0')\n",
      "2 tensor(87.4056, device='cuda:0')\n",
      "3 tensor(85.0009, device='cuda:0')\n",
      "4 tensor(83.7669, device='cuda:0')\n",
      "5 tensor(83.6994, device='cuda:0')\n",
      "6 tensor(81.7451, device='cuda:0')\n",
      "7 tensor(81.6644, device='cuda:0')\n",
      "8 tensor(79.6547, device='cuda:0')\n",
      "9 tensor(79.8564, device='cuda:0')\n"
     ]
    }
   ],
   "source": [
    "for epoch in range(0, epochs):\n",
    "    for iteration, (data, label) in enumerate(train_loader):\n",
    "        model.train()\n",
    "        optimizer.zero_grad()\n",
    "        recon,vq_loss = model(data.to(device), label.to(device))\n",
    "        recon_loss = recon_criterion(recon, data.to(device))\n",
    "        loss = vq_loss + recon_loss\n",
    "        \n",
    "        loss.backward()\n",
    "        optimizer.step()\n",
    "        \n",
    "    loss = 0\n",
    "    for iteration, (data, label) in enumerate(test_loader):\n",
    "        model.eval()\n",
    "        with torch.no_grad():\n",
    "            recon, kld_loss = model(data.to(device), label.to(device))\n",
    "\n",
    "            recon_loss = recon_criterion(recon, data.to(device))\n",
    "            loss += (kld_loss + recon_loss)\n",
    "\n",
    "    print(epoch, loss/test_dataset.__len__())"
   ]
  },
  {
   "cell_type": "code",
   "execution_count": 13,
   "id": "763606f7",
   "metadata": {
    "ExecuteTime": {
     "end_time": "2022-01-26T06:42:32.900823Z",
     "start_time": "2022-01-26T06:42:32.870822Z"
    },
    "scrolled": true
   },
   "outputs": [
    {
     "data": {
      "image/png": "[encoded data removed]",
      "text/plain": [
       "<IPython.core.display.Image object>"
      ]
     },
     "execution_count": 13,
     "metadata": {},
     "output_type": "execute_result"
    }
   ],
   "source": [
    "z = Normal(0,1).sample((10,20)).to(device)\n",
    "label = torch.tensor(np.arange(0,10), device = device).long()\n",
    "# label = torch.tensor(np.random.randint(0,10,32), device = device).long()\n",
    "out = model.decoder(z, label)\n",
    "save_image(out.view(out.size(0), 1, 28, 28).data.cpu(), 'sample_image.png')\n",
    "Image('sample_image.png')"
   ]
  }
 ],
 "metadata": {
  "kernelspec": {
   "display_name": "VAE",
   "language": "python",
   "name": "venv_vaes"
  },
  "language_info": {
   "codemirror_mode": {
    "name": "ipython",
    "version": 3
   },
   "file_extension": ".py",
   "mimetype": "text/x-python",
   "name": "python",
   "nbconvert_exporter": "python",
   "pygments_lexer": "ipython3",
   "version": "3.7.9"
  },
  "toc": {
   "base_numbering": 1,
   "nav_menu": {},
   "number_sections": true,
   "sideBar": true,
   "skip_h1_title": false,
   "title_cell": "Table of Contents",
   "title_sidebar": "Contents",
   "toc_cell": false,
   "toc_position": {},
   "toc_section_display": true,
   "toc_window_display": false
  },
  "varInspector": {
   "cols": {
    "lenName": 16,
    "lenType": 16,
    "lenVar": 40
   },
   "kernels_config": {
    "python": {
     "delete_cmd_postfix": "",
     "delete_cmd_prefix": "del ",
     "library": "var_list.py",
     "varRefreshCmd": "print(var_dic_list())"
    },
    "r": {
     "delete_cmd_postfix": ") ",
     "delete_cmd_prefix": "rm(",
     "library": "var_list.r",
     "varRefreshCmd": "cat(var_dic_list()) "
    }
   },
   "types_to_exclude": [
    "module",
    "function",
    "builtin_function_or_method",
    "instance",
    "_Feature"
   ],
   "window_display": false
  }
 },
 "nbformat": 4,
 "nbformat_minor": 5
}
