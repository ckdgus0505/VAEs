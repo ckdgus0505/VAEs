{
 "cells": [
  {
   "cell_type": "code",
   "execution_count": 1,
   "id": "4ed8a410",
   "metadata": {
    "ExecuteTime": {
     "end_time": "2022-01-26T06:47:03.883457Z",
     "start_time": "2022-01-26T06:47:02.619646Z"
    }
   },
   "outputs": [],
   "source": [
    "import numpy as np\n",
    "import matplotlib.pyplot as plt\n",
    "import torch\n",
    "import torch.nn as nn\n",
    "import torch.nn.functional as F\n",
    "from torch.distributions.normal import Normal\n",
    "from torch.autograd import Variable\n",
    "from IPython.display import Image\n",
    "from torchvision.utils import save_image\n",
    "from torch.utils.data import DataLoader\n",
    "import torchvision.transforms as transforms\n",
    "from torchvision.datasets import MNIST"
   ]
  },
  {
   "cell_type": "markdown",
   "id": "37811a28",
   "metadata": {
    "hide_input": false
   },
   "source": [
    "# arguments"
   ]
  },
  {
   "cell_type": "code",
   "execution_count": 2,
   "id": "54eb045a",
   "metadata": {
    "ExecuteTime": {
     "end_time": "2022-01-26T06:47:03.915374Z",
     "start_time": "2022-01-26T06:47:03.885376Z"
    }
   },
   "outputs": [],
   "source": [
    "batch_size = 128\n",
    "epochs = 10\n",
    "num_labels = 10\n",
    "\n",
    "device = torch.device('cuda:0' if torch.cuda.is_available() else 'cpu')"
   ]
  },
  {
   "cell_type": "markdown",
   "id": "6e9680f2",
   "metadata": {},
   "source": [
    "# Prepare Dataset"
   ]
  },
  {
   "cell_type": "code",
   "execution_count": 3,
   "id": "81d747df",
   "metadata": {
    "ExecuteTime": {
     "end_time": "2022-01-26T06:47:03.931374Z",
     "start_time": "2022-01-26T06:47:03.917377Z"
    }
   },
   "outputs": [],
   "source": [
    "mnist_transform = transforms.Compose([\n",
    "    transforms.ToTensor()\n",
    "])"
   ]
  },
  {
   "cell_type": "code",
   "execution_count": 4,
   "id": "1641431a",
   "metadata": {
    "ExecuteTime": {
     "end_time": "2022-01-26T06:47:03.992375Z",
     "start_time": "2022-01-26T06:47:03.933374Z"
    },
    "scrolled": true
   },
   "outputs": [],
   "source": [
    "download_root = './MNIST_DATASET'\n",
    "\n",
    "train_dataset = MNIST(download_root, transform=mnist_transform, train=True, download=True)\n",
    "test_dataset = MNIST(download_root, transform=mnist_transform, train=False, download=True)"
   ]
  },
  {
   "cell_type": "code",
   "execution_count": 5,
   "id": "11ecd120",
   "metadata": {
    "ExecuteTime": {
     "end_time": "2022-01-26T06:47:04.008374Z",
     "start_time": "2022-01-26T06:47:03.994376Z"
    }
   },
   "outputs": [],
   "source": [
    "train_loader = DataLoader(dataset=train_dataset, \n",
    "                         batch_size=batch_size,\n",
    "                         shuffle=True)\n",
    "\n",
    "test_loader = DataLoader(dataset=test_dataset, \n",
    "                         batch_size=batch_size,\n",
    "                         shuffle=True)\n",
    "\n",
    "# a, _ = test_dataset.__getitem__(0)\n",
    "# torch.tensor(np.array(a))\n",
    "# 28*28 shape data"
   ]
  },
  {
   "cell_type": "code",
   "execution_count": 6,
   "id": "31049e34",
   "metadata": {
    "ExecuteTime": {
     "end_time": "2022-01-26T06:47:04.023374Z",
     "start_time": "2022-01-26T06:47:04.009376Z"
    }
   },
   "outputs": [],
   "source": [
    "def label_to_one_hot(label, num_labels = 10):\n",
    "    label = label.unsqueeze(1)\n",
    "    one_hot = torch.zeros([label.shape[0], num_labels], device = device)\n",
    "    one_hot.scatter_(1, label, 1)\n",
    "    return one_hot"
   ]
  },
  {
   "cell_type": "markdown",
   "id": "ec996563",
   "metadata": {},
   "source": [
    "# Define Model"
   ]
  },
  {
   "cell_type": "code",
   "execution_count": 7,
   "id": "959e1266",
   "metadata": {
    "ExecuteTime": {
     "end_time": "2022-01-26T06:47:04.038374Z",
     "start_time": "2022-01-26T06:47:04.024377Z"
    }
   },
   "outputs": [],
   "source": [
    "class Encoder(nn.Module):\n",
    "    def __init__(self):\n",
    "        super(Encoder, self).__init__()\n",
    "        self.MLP= nn.Sequential(nn.Linear(28*28+10, 400), nn.PReLU(),\n",
    "                                nn.Linear(400, 40))\n",
    "        \n",
    "        self.fc_mu = nn.Linear(40,20)\n",
    "        self.fc_var = nn.Linear(40,20)\n",
    "        \n",
    "    def forward(self, x, label):\n",
    "        bs = x.shape[0]\n",
    "        c = label_to_one_hot(label)\n",
    "        k = x.reshape(bs, -1)\n",
    "        out = self.MLP(torch.cat([x.reshape(bs, -1), c], dim = 1))\n",
    "        mu = self.fc_mu(out)\n",
    "        log_var = self.fc_var(out)\n",
    "        return mu, log_var\n",
    "        "
   ]
  },
  {
   "cell_type": "code",
   "execution_count": 8,
   "id": "111eb591",
   "metadata": {
    "ExecuteTime": {
     "end_time": "2022-01-26T06:47:04.054376Z",
     "start_time": "2022-01-26T06:47:04.039376Z"
    }
   },
   "outputs": [],
   "source": [
    "class Decoder(nn.Module):\n",
    "    def __init__(self):\n",
    "        super(Decoder, self).__init__()\n",
    "        self.MLP = nn.Sequential(nn.Linear(20+10, 400), nn.PReLU(),\n",
    "                                nn.Linear(400, 28*28), nn.Sigmoid())\n",
    "        \n",
    "    def forward(self, x, label):\n",
    "        bs = x.shape[0]\n",
    "        c = label_to_one_hot(label)\n",
    "        out = self.MLP(torch.cat([x,c], dim = 1)).reshape(bs, 1, 28, 28)\n",
    "        return out\n",
    "        "
   ]
  },
  {
   "cell_type": "code",
   "execution_count": 9,
   "id": "cbc7513a",
   "metadata": {
    "ExecuteTime": {
     "end_time": "2022-01-26T06:47:04.069375Z",
     "start_time": "2022-01-26T06:47:04.055377Z"
    }
   },
   "outputs": [],
   "source": [
    "class VAE(nn.Module):\n",
    "    def __init__(self):\n",
    "        super(VAE, self).__init__()\n",
    "        self.encoder = Encoder()\n",
    "        self.decoder = Decoder()\n",
    "        \n",
    "    def forward(self, x, label):\n",
    "        mean, log_var = self.encoder(x, label)\n",
    "        z = self.reparam(mean, log_var)\n",
    "        out = self.decoder(z, label)\n",
    "        kld_loss = -0.5*torch.sum(1+log_var - mean**2 - log_var.exp())\n",
    "        \n",
    "        return out, kld_loss\n",
    "        \n",
    "    def reparam(self, mean, log_var):\n",
    "        std = torch.exp(0.5 * log_var)\n",
    "        z = Variable(torch.randn(mean.shape, device=device))\n",
    "        return mean+std*z"
   ]
  },
  {
   "cell_type": "markdown",
   "id": "d996c3fe",
   "metadata": {},
   "source": [
    "# model prepare"
   ]
  },
  {
   "cell_type": "code",
   "execution_count": 10,
   "id": "24ed90f7",
   "metadata": {
    "ExecuteTime": {
     "end_time": "2022-01-26T06:47:05.604219Z",
     "start_time": "2022-01-26T06:47:04.070377Z"
    }
   },
   "outputs": [],
   "source": [
    "model = VAE().to(device)\n",
    "optimizer = torch.optim.Adam(model.parameters(), lr = 1e-3)\n",
    "recon_criterion = nn.BCELoss(reduction = 'none')"
   ]
  },
  {
   "cell_type": "code",
   "execution_count": 11,
   "id": "0a4c1d1c",
   "metadata": {
    "ExecuteTime": {
     "end_time": "2022-01-26T06:48:19.846307Z",
     "start_time": "2022-01-26T06:47:05.604219Z"
    }
   },
   "outputs": [
    {
     "name": "stdout",
     "output_type": "stream",
     "text": [
      "0 tensor(129.7361, device='cuda:0')\n",
      "1 tensor(115.9195, device='cuda:0')\n",
      "2 tensor(110.3298, device='cuda:0')\n",
      "3 tensor(107.3602, device='cuda:0')\n",
      "4 tensor(105.5904, device='cuda:0')\n",
      "5 tensor(104.1702, device='cuda:0')\n",
      "6 tensor(103.1988, device='cuda:0')\n",
      "7 tensor(102.3930, device='cuda:0')\n",
      "8 tensor(101.9026, device='cuda:0')\n",
      "9 tensor(101.5310, device='cuda:0')\n"
     ]
    }
   ],
   "source": [
    "for epoch in range(0, epochs):\n",
    "    for iteration, (data, label) in enumerate(train_loader):\n",
    "        model.train()\n",
    "        optimizer.zero_grad()\n",
    "        recon, kld_loss = model(data.to(device), label.to(device))\n",
    "        recon_loss = recon_criterion(recon, data.to(device))\n",
    "        loss = kld_loss + recon_loss.sum(dim=1).sum()\n",
    "        \n",
    "        loss.backward()\n",
    "        optimizer.step()\n",
    "        \n",
    "    loss = 0\n",
    "    for iteration, (data, label) in enumerate(test_loader):\n",
    "        model.eval()\n",
    "        with torch.no_grad():\n",
    "            recon, kld_loss = model(data.to(device), label.to(device))\n",
    "\n",
    "            recon_loss = recon_criterion(recon, data.to(device))\n",
    "            loss += (kld_loss + recon_loss.sum(dim=1).sum())\n",
    "\n",
    "    print(epoch, loss/test_dataset.__len__())"
   ]
  },
  {
   "cell_type": "code",
   "execution_count": 12,
   "id": "763606f7",
   "metadata": {
    "ExecuteTime": {
     "end_time": "2022-01-26T06:48:19.892305Z",
     "start_time": "2022-01-26T06:48:19.847309Z"
    },
    "scrolled": true
   },
   "outputs": [
    {
     "data": {
      "image/png": "[encoded data removed]",
      "text/plain": [
       "<IPython.core.display.Image object>"
      ]
     },
     "execution_count": 12,
     "metadata": {},
     "output_type": "execute_result"
    }
   ],
   "source": [
    "z = Normal(0,1).sample((10,20)).to(device)\n",
    "label = torch.tensor(np.arange(0,10), device = device).long()\n",
    "# label = torch.tensor(np.random.randint(0,10,32), device = device).long()\n",
    "out = model.decoder(z, label)\n",
    "# a = out.to('cpu').squeeze().detach().numpy()\n",
    "save_image(out.view(out.size(0), 1, 28, 28).data.cpu(), 'sample_image.png')\n",
    "Image('sample_image.png')"
   ]
  }
 ],
 "metadata": {
  "kernelspec": {
   "display_name": "VAE",
   "language": "python",
   "name": "venv_vaes"
  },
  "language_info": {
   "codemirror_mode": {
    "name": "ipython",
    "version": 3
   },
   "file_extension": ".py",
   "mimetype": "text/x-python",
   "name": "python",
   "nbconvert_exporter": "python",
   "pygments_lexer": "ipython3",
   "version": "3.7.9"
  },
  "toc": {
   "base_numbering": 1,
   "nav_menu": {},
   "number_sections": true,
   "sideBar": true,
   "skip_h1_title": false,
   "title_cell": "Table of Contents",
   "title_sidebar": "Contents",
   "toc_cell": false,
   "toc_position": {},
   "toc_section_display": true,
   "toc_window_display": false
  },
  "varInspector": {
   "cols": {
    "lenName": 16,
    "lenType": 16,
    "lenVar": 40
   },
   "kernels_config": {
    "python": {
     "delete_cmd_postfix": "",
     "delete_cmd_prefix": "del ",
     "library": "var_list.py",
     "varRefreshCmd": "print(var_dic_list())"
    },
    "r": {
     "delete_cmd_postfix": ") ",
     "delete_cmd_prefix": "rm(",
     "library": "var_list.r",
     "varRefreshCmd": "cat(var_dic_list()) "
    }
   },
   "types_to_exclude": [
    "module",
    "function",
    "builtin_function_or_method",
    "instance",
    "_Feature"
   ],
   "window_display": false
  }
 },
 "nbformat": 4,
 "nbformat_minor": 5
}
