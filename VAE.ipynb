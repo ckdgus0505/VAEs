{
 "cells": [
  {
   "cell_type": "code",
   "execution_count": 1,
   "id": "4ed8a410",
   "metadata": {
    "ExecuteTime": {
     "end_time": "2022-01-26T05:51:05.504653Z",
     "start_time": "2022-01-26T05:51:04.322290Z"
    }
   },
   "outputs": [],
   "source": [
    "import numpy as np\n",
    "import matplotlib.pyplot as plt\n",
    "import torch\n",
    "import torch.nn as nn\n",
    "import torch.nn.functional as F\n",
    "from torch.distributions.normal import Normal\n",
    "from torch.autograd import Variable\n",
    "from IPython.display import Image\n",
    "from torchvision.utils import save_image\n",
    "from torch.utils.data import DataLoader\n",
    "import torchvision.transforms as transforms\n",
    "from torchvision.datasets import MNIST"
   ]
  },
  {
   "cell_type": "markdown",
   "id": "37811a28",
   "metadata": {
    "hide_input": false
   },
   "source": [
    "# arguments"
   ]
  },
  {
   "cell_type": "code",
   "execution_count": 2,
   "id": "54eb045a",
   "metadata": {
    "ExecuteTime": {
     "end_time": "2022-01-26T05:51:05.536652Z",
     "start_time": "2022-01-26T05:51:05.507656Z"
    }
   },
   "outputs": [],
   "source": [
    "batch_size = 128\n",
    "epochs = 30\n",
    "\n",
    "device = torch.device('cuda:0' if torch.cuda.is_available() else 'cpu')"
   ]
  },
  {
   "cell_type": "markdown",
   "id": "6e9680f2",
   "metadata": {},
   "source": [
    "# Prepare Dataset"
   ]
  },
  {
   "cell_type": "code",
   "execution_count": 3,
   "id": "81d747df",
   "metadata": {
    "ExecuteTime": {
     "end_time": "2022-01-26T05:51:05.552653Z",
     "start_time": "2022-01-26T05:51:05.537653Z"
    }
   },
   "outputs": [],
   "source": [
    "mnist_transform = transforms.Compose([\n",
    "    transforms.ToTensor()\n",
    "])"
   ]
  },
  {
   "cell_type": "code",
   "execution_count": 4,
   "id": "1641431a",
   "metadata": {
    "ExecuteTime": {
     "end_time": "2022-01-26T05:51:05.584654Z",
     "start_time": "2022-01-26T05:51:05.554654Z"
    },
    "scrolled": true
   },
   "outputs": [],
   "source": [
    "download_root = './MNIST_DATASET'\n",
    "\n",
    "train_dataset = MNIST(download_root, transform=mnist_transform, train=True, download=True)\n",
    "test_dataset = MNIST(download_root, transform=mnist_transform, train=False, download=True)"
   ]
  },
  {
   "cell_type": "code",
   "execution_count": 5,
   "id": "11ecd120",
   "metadata": {
    "ExecuteTime": {
     "end_time": "2022-01-26T05:51:05.600651Z",
     "start_time": "2022-01-26T05:51:05.587657Z"
    }
   },
   "outputs": [],
   "source": [
    "train_loader = DataLoader(dataset=train_dataset, \n",
    "                         batch_size=batch_size,\n",
    "                         shuffle=True)\n",
    "\n",
    "test_loader = DataLoader(dataset=test_dataset, \n",
    "                         batch_size=batch_size,\n",
    "                         shuffle=True)\n",
    "\n",
    "# a, _ = test_dataset.__getitem__(0)\n",
    "# torch.tensor(np.array(a))\n",
    "# 28*28 shape data"
   ]
  },
  {
   "cell_type": "markdown",
   "id": "ec996563",
   "metadata": {},
   "source": [
    "# Define Model"
   ]
  },
  {
   "cell_type": "code",
   "execution_count": 6,
   "id": "959e1266",
   "metadata": {
    "ExecuteTime": {
     "end_time": "2022-01-26T05:51:05.616756Z",
     "start_time": "2022-01-26T05:51:05.601653Z"
    }
   },
   "outputs": [],
   "source": [
    "class Encoder(nn.Module):\n",
    "    def __init__(self):\n",
    "        super(Encoder, self).__init__()\n",
    "        self.MLP= nn.Sequential(nn.Linear(28*28, 400), nn.PReLU(),\n",
    "                                nn.Linear(400, 40))\n",
    "        \n",
    "        self.fc_mu = nn.Linear(40,20)\n",
    "        self.fc_var = nn.Linear(40,20)\n",
    "        \n",
    "    def forward(self, x):\n",
    "        bs = x.shape[0]\n",
    "        out = self.MLP(x.reshape(bs, -1))\n",
    "#         mu, log_var = torch.chunk(out, 2, dim=1)\n",
    "        mu = self.fc_mu(out)\n",
    "        log_var = self.fc_var(out)\n",
    "        return mu, log_var\n",
    "        "
   ]
  },
  {
   "cell_type": "code",
   "execution_count": 7,
   "id": "111eb591",
   "metadata": {
    "ExecuteTime": {
     "end_time": "2022-01-26T05:51:05.632757Z",
     "start_time": "2022-01-26T05:51:05.617652Z"
    }
   },
   "outputs": [],
   "source": [
    "class Decoder(nn.Module):\n",
    "    def __init__(self):\n",
    "        super(Decoder, self).__init__()\n",
    "        self.MLP = nn.Sequential(nn.Linear(20, 400), nn.PReLU(),\n",
    "                                nn.Linear(400, 28*28), nn.Sigmoid())\n",
    "        \n",
    "    def forward(self, x):\n",
    "        bs = x.shape[0]\n",
    "        out = self.MLP(x).reshape(bs, 1, 28, 28)\n",
    "        return out\n",
    "        "
   ]
  },
  {
   "cell_type": "code",
   "execution_count": 8,
   "id": "cbc7513a",
   "metadata": {
    "ExecuteTime": {
     "end_time": "2022-01-26T05:51:05.653320Z",
     "start_time": "2022-01-26T05:51:05.633652Z"
    }
   },
   "outputs": [],
   "source": [
    "class VAE(nn.Module):\n",
    "    def __init__(self):\n",
    "        super(VAE, self).__init__()\n",
    "        self.encoder = Encoder()\n",
    "        self.decoder = Decoder()\n",
    "        \n",
    "    def forward(self, x):\n",
    "        mean, log_var = self.encoder(x)\n",
    "        z = self.reparam(mean, log_var)\n",
    "        out = self.decoder(z)\n",
    "        kld_loss = -0.5*torch.sum(1+log_var - mean**2 - log_var.exp())\n",
    "        \n",
    "        return out, kld_loss\n",
    "        \n",
    "    def reparam(self, mean, log_var):\n",
    "        std = torch.exp(0.5 * log_var)\n",
    "        z = Variable(torch.randn(mean.shape, device=device))\n",
    "        return mean+std*z"
   ]
  },
  {
   "cell_type": "markdown",
   "id": "d996c3fe",
   "metadata": {},
   "source": [
    "# model prepare"
   ]
  },
  {
   "cell_type": "code",
   "execution_count": 9,
   "id": "24ed90f7",
   "metadata": {
    "ExecuteTime": {
     "end_time": "2022-01-26T05:51:07.168249Z",
     "start_time": "2022-01-26T05:51:05.653320Z"
    }
   },
   "outputs": [],
   "source": [
    "model = VAE().to(device)\n",
    "optimizer = torch.optim.Adam(model.parameters(), lr = 1e-3)\n",
    "recon_criterion = nn.BCELoss(reduction = 'none')"
   ]
  },
  {
   "cell_type": "code",
   "execution_count": 10,
   "id": "0a4c1d1c",
   "metadata": {
    "ExecuteTime": {
     "end_time": "2022-01-26T05:54:35.491696Z",
     "start_time": "2022-01-26T05:51:07.168249Z"
    }
   },
   "outputs": [
    {
     "name": "stdout",
     "output_type": "stream",
     "text": [
      "0 tensor(132.0462, device='cuda:0')\n",
      "1 tensor(118.8469, device='cuda:0')\n",
      "2 tensor(113.5264, device='cuda:0')\n",
      "3 tensor(110.6405, device='cuda:0')\n",
      "4 tensor(108.7810, device='cuda:0')\n",
      "5 tensor(107.6820, device='cuda:0')\n",
      "6 tensor(106.9515, device='cuda:0')\n",
      "7 tensor(106.6197, device='cuda:0')\n",
      "8 tensor(105.7895, device='cuda:0')\n",
      "9 tensor(105.6540, device='cuda:0')\n",
      "10 tensor(105.5691, device='cuda:0')\n",
      "11 tensor(104.9395, device='cuda:0')\n",
      "12 tensor(104.8071, device='cuda:0')\n",
      "13 tensor(104.3771, device='cuda:0')\n",
      "14 tensor(104.1815, device='cuda:0')\n",
      "15 tensor(104.0517, device='cuda:0')\n",
      "16 tensor(104.0906, device='cuda:0')\n",
      "17 tensor(103.9070, device='cuda:0')\n",
      "18 tensor(103.6172, device='cuda:0')\n",
      "19 tensor(103.6063, device='cuda:0')\n",
      "20 tensor(103.4018, device='cuda:0')\n",
      "21 tensor(103.2241, device='cuda:0')\n",
      "22 tensor(103.1253, device='cuda:0')\n",
      "23 tensor(103.1362, device='cuda:0')\n",
      "24 tensor(103.0962, device='cuda:0')\n",
      "25 tensor(103.0613, device='cuda:0')\n",
      "26 tensor(102.8546, device='cuda:0')\n",
      "27 tensor(102.6716, device='cuda:0')\n",
      "28 tensor(102.7467, device='cuda:0')\n",
      "29 tensor(102.6899, device='cuda:0')\n"
     ]
    }
   ],
   "source": [
    "for epoch in range(0, epochs):\n",
    "    for iteration, (data, _) in enumerate(train_loader):\n",
    "        model.train()\n",
    "        optimizer.zero_grad()\n",
    "        recon, kld_loss = model(data.to(device))\n",
    "        recon_loss = recon_criterion(recon, data.to(device))\n",
    "        loss = kld_loss + recon_loss.sum(dim=1).sum()\n",
    "        \n",
    "        loss.backward()\n",
    "        optimizer.step()\n",
    "        \n",
    "    loss = 0\n",
    "    for iteration, (data, _) in enumerate(test_loader):\n",
    "        model.eval()\n",
    "        with torch.no_grad():\n",
    "            recon, kld_loss = model(data.to(device))\n",
    "\n",
    "            recon_loss = recon_criterion(recon, data.to(device))\n",
    "            loss += (kld_loss + recon_loss.sum(dim=1).sum())\n",
    "\n",
    "    print(epoch, loss/test_dataset.__len__())"
   ]
  },
  {
   "cell_type": "code",
   "execution_count": 11,
   "id": "763606f7",
   "metadata": {
    "ExecuteTime": {
     "end_time": "2022-01-26T05:54:35.539698Z",
     "start_time": "2022-01-26T05:54:35.493697Z"
    }
   },
   "outputs": [
    {
     "data": {
      "image/png": "[encoded data removed]",
      "text/plain": [
       "<IPython.core.display.Image object>"
      ]
     },
     "execution_count": 11,
     "metadata": {},
     "output_type": "execute_result"
    }
   ],
   "source": [
    "z = Normal(0,1).sample((32,20)).to(device)\n",
    "out = model.decoder(z)\n",
    "save_image(out.view(out.size(0), 1, 28, 28).data.cpu(), 'sample_image.png')\n",
    "Image('sample_image.png')"
   ]
  }
 ],
 "metadata": {
  "kernelspec": {
   "display_name": "VAE",
   "language": "python",
   "name": "venv_vaes"
  },
  "language_info": {
   "codemirror_mode": {
    "name": "ipython",
    "version": 3
   },
   "file_extension": ".py",
   "mimetype": "text/x-python",
   "name": "python",
   "nbconvert_exporter": "python",
   "pygments_lexer": "ipython3",
   "version": "3.7.9"
  },
  "toc": {
   "base_numbering": 1,
   "nav_menu": {},
   "number_sections": true,
   "sideBar": true,
   "skip_h1_title": false,
   "title_cell": "Table of Contents",
   "title_sidebar": "Contents",
   "toc_cell": false,
   "toc_position": {},
   "toc_section_display": true,
   "toc_window_display": false
  },
  "varInspector": {
   "cols": {
    "lenName": 16,
    "lenType": 16,
    "lenVar": 40
   },
   "kernels_config": {
    "python": {
     "delete_cmd_postfix": "",
     "delete_cmd_prefix": "del ",
     "library": "var_list.py",
     "varRefreshCmd": "print(var_dic_list())"
    },
    "r": {
     "delete_cmd_postfix": ") ",
     "delete_cmd_prefix": "rm(",
     "library": "var_list.r",
     "varRefreshCmd": "cat(var_dic_list()) "
    }
   },
   "types_to_exclude": [
    "module",
    "function",
    "builtin_function_or_method",
    "instance",
    "_Feature"
   ],
   "window_display": false
  }
 },
 "nbformat": 4,
 "nbformat_minor": 5
}
